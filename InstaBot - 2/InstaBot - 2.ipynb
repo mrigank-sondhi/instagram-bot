{
 "cells": [
  {
   "cell_type": "code",
   "execution_count": 164,
   "id": "23bfd979",
   "metadata": {},
   "outputs": [],
   "source": [
    "#importing libraries\n",
    "from selenium import webdriver\n",
    "import numpy as np\n",
    "import pandas as pd\n",
    "import matplotlib.pyplot as plt \n",
    "from selenium import webdriver\n",
    "import pandas as pd\n",
    "from time import sleep\n",
    "from bs4 import BeautifulSoup as bsp\n",
    "from selenium.webdriver.support.ui import WebDriverWait\n",
    "from selenium.webdriver.support import expected_conditions as EC\n",
    "from selenium.webdriver.common.by import By\n",
    "from selenium.webdriver.common.keys import Keys"
   ]
  },
  {
   "cell_type": "code",
   "execution_count": 517,
   "id": "5c716ffd",
   "metadata": {},
   "outputs": [
    {
     "name": "stderr",
     "output_type": "stream",
     "text": [
      "<ipython-input-517-0b710c24e281>:1: DeprecationWarning: executable_path has been deprecated, please pass in a Service object\n",
      "  driver = webdriver.Chrome(executable_path = \"C:\\Program Files\\chromedriver_win32\\chromedriver.exe\")\n"
     ]
    }
   ],
   "source": [
    "driver = webdriver.Chrome(executable_path = \"C:\\Program Files\\chromedriver_win32\\chromedriver.exe\")\n",
    "wait = WebDriverWait(driver, 10)"
   ]
  },
  {
   "cell_type": "code",
   "execution_count": 518,
   "id": "67913c6a",
   "metadata": {},
   "outputs": [],
   "source": [
    "driver.maximize_window()"
   ]
  },
  {
   "cell_type": "code",
   "execution_count": 519,
   "id": "d13fb63c",
   "metadata": {},
   "outputs": [],
   "source": [
    "#login function\n",
    "def login(un, pw):\n",
    "    driver.get('https://www.instagram.com/')\n",
    "    wait = WebDriverWait(driver, 10)\n",
    "    username = wait.until(EC.presence_of_element_located((By.NAME, 'username')))\n",
    "    username.send_keys(un)\n",
    "    password = wait.until(EC.presence_of_element_located((By.NAME, 'password')))\n",
    "    password.send_keys(pw)\n",
    "    login = driver.find_element_by_xpath('//button[contains(@type, \"submit\")]')\n",
    "    login.submit()"
   ]
  },
  {
   "cell_type": "code",
   "execution_count": 520,
   "id": "b7536900",
   "metadata": {},
   "outputs": [
    {
     "name": "stderr",
     "output_type": "stream",
     "text": [
      "<ipython-input-519-e6b95c6b312f>:9: DeprecationWarning: find_element_by_* commands are deprecated. Please use find_element() instead\n",
      "  login = driver.find_element_by_xpath('//button[contains(@type, \"submit\")]')\n"
     ]
    }
   ],
   "source": [
    "un = 'SAMPLE USERNAME'\n",
    "pw = 'SAMPLE PASSWORD'\n",
    "\n",
    "login(un, pw)"
   ]
  },
  {
   "cell_type": "code",
   "execution_count": 521,
   "id": "932b653f",
   "metadata": {},
   "outputs": [],
   "source": [
    "#for users logging into the session for the first time\n",
    "wait.until(EC.presence_of_element_located((By.XPATH, '//button[contains(@type, \"button\")]'))).click()\n",
    "try:\n",
    "    notifications = wait.until(EC.presence_of_element_located((By.XPATH, '//button[contains(@class, \"bIiDR\")]')))\n",
    "except:\n",
    "    pass\n",
    "else:\n",
    "    notifications.click()"
   ]
  },
  {
   "cell_type": "markdown",
   "id": "3630e274",
   "metadata": {},
   "source": [
    "# 1. Now your friend has followed a lot of different food bloggers, he needs to analyse the habits of these bloggers.\n",
    "1. From the list of instagram handles you obtained when you searched ‘food’ in previous project. Open the first 10 handles and find the top 5 which have the highest number of followers\n",
    "2. Now Find the number of posts these handles have done in the previous 3 days.\n",
    "3. Depict this information using a suitable graph."
   ]
  },
  {
   "cell_type": "code",
   "execution_count": 199,
   "id": "7de3c615",
   "metadata": {},
   "outputs": [],
   "source": [
    "#importing the datetime and regex libraries\n",
    "from datetime import date\n",
    "import re"
   ]
  },
  {
   "cell_type": "code",
   "execution_count": 200,
   "id": "3afb6018",
   "metadata": {},
   "outputs": [],
   "source": [
    "#function for finding number of followers\n",
    "def find_followers(handles):\n",
    "    followers = {}\n",
    "    for handle in handles:\n",
    "        driver.get(f'https://www.instagram.com/{handle}/')\n",
    "        stats = wait.until(EC.presence_of_all_elements_located((By.CLASS_NAME, 'g47SY')))\n",
    "        followers[handle] = (int)((stats[1].get_attribute('title')).replace(',', ''))\n",
    "    return followers"
   ]
  },
  {
   "cell_type": "code",
   "execution_count": 201,
   "id": "0af84518",
   "metadata": {},
   "outputs": [],
   "source": [
    "#function to find number of posts posted in specified previous number of days\n",
    "def find_posts(handles, required_days):\n",
    "    posts = {}\n",
    "    today = date.today()\n",
    "    regex = r\"(\\d{4}-\\d{2}-\\d{1,2}).*\"\n",
    "\n",
    "    for handle in handles:\n",
    "        posts[handle] = 0\n",
    "        driver.get(f'https://www.instagram.com/{handle}/')\n",
    "        i = 0\n",
    "        temp = wait.until(EC.presence_of_all_elements_located((By.CLASS_NAME, '_9AhH0')))\n",
    "        while True:\n",
    "            try:\n",
    "                driver.find_elements_by_class_name('_9AhH0')[i].click()\n",
    "            except:\n",
    "                current_end = driver.execute_script('return document.body.scrollHeight;') \n",
    "                driver.execute_script('window.scrollTo(0, arguments[0]);', current_end)\n",
    "                continue\n",
    "            else:\n",
    "                time = wait.until(EC.presence_of_element_located((By.CLASS_NAME, '_1o9PC')))\n",
    "                date_posted = time.get_attribute('datetime')       \n",
    "                matches = re.search(regex, date_posted)\n",
    "                date_posted = matches.group(1)\n",
    "                date_posted = [int(i) for i in date_posted.replace('-', ' ').split()]\n",
    "                date_posted = date(date_posted[0], date_posted[1], date_posted[2])\n",
    "                days = (today - date_posted).days\n",
    "                if(days <= required_days):\n",
    "                    posts[handle] += 1\n",
    "                    i += 1\n",
    "                    driver.back()\n",
    "                else:\n",
    "                    break\n",
    "    return posts"
   ]
  },
  {
   "cell_type": "code",
   "execution_count": 202,
   "id": "8c9f89e5",
   "metadata": {},
   "outputs": [],
   "source": [
    "#funciton to plot required plots\n",
    "def plot(X, Y, Z):\n",
    "    X_axis = np.arange(len(X))\n",
    "    \n",
    "    plt.bar(X_axis, Y)\n",
    "    plt.xticks(X_axis, X, rotation = 45)\n",
    "    plt.xlabel(\"Instagram Handles\")\n",
    "    plt.ylabel(\"Number\")\n",
    "    plt.title(\"No. of followers of top handles\")\n",
    "    plt.show()\n",
    "    \n",
    "    plt.bar(X_axis, Z)\n",
    "    plt.xticks(X_axis, X, rotation = 45)\n",
    "    plt.xlabel(\"Instagram Handles\")\n",
    "    plt.ylabel(\"Number\")\n",
    "    plt.title(\"No. of posts by top handles\")\n",
    "    plt.show()\n",
    "    \n",
    "    plt.bar(X_axis - 0.2, np.log(Y), 0.4, label = 'No. of Followers')\n",
    "    plt.bar(X_axis + 0.2, np.log(Z), 0.4, label = 'No. of Posts')\n",
    "    plt.xticks(X_axis, X, rotation = 45)\n",
    "    plt.xlabel(\"Instagram Handles\")\n",
    "    plt.ylabel(\"Number (Logarithmic Scale)\")\n",
    "    plt.title(\"No. of followers and posts of top handles\")\n",
    "    plt.legend(bbox_to_anchor = (1.05, 0.6))\n",
    "    plt.show()"
   ]
  },
  {
   "cell_type": "code",
   "execution_count": 203,
   "id": "737b4a32",
   "metadata": {},
   "outputs": [
    {
     "name": "stderr",
     "output_type": "stream",
     "text": [
      "<ipython-input-201-d320d17abd9a>:13: DeprecationWarning: find_elements_by_* commands are deprecated. Please use find_elements() instead\n",
      "  driver.find_elements_by_class_name('_9AhH0')[i].click()\n"
     ]
    },
    {
     "data": {
      "image/png": "[encoded data removed]",
      "text/plain": [
       "<Figure size 432x288 with 1 Axes>"
      ]
     },
     "metadata": {
      "needs_background": "light"
     },
     "output_type": "display_data"
    },
    {
     "data": {
      "image/png": "[encoded data removed]",
      "text/plain": [
       "<Figure size 432x288 with 1 Axes>"
      ]
     },
     "metadata": {
      "needs_background": "light"
     },
     "output_type": "display_data"
    },
    {
     "data": {
      "image/png": "[encoded data removed]",
      "text/plain": [
       "<Figure size 432x288 with 1 Axes>"
      ]
     },
     "metadata": {
      "needs_background": "light"
     },
     "output_type": "display_data"
    }
   ],
   "source": [
    "handles = ['foodie_incarnate', 'healthy.foodyss', 'food_in_my_vein', 'food_lunatic', 'foodzeee', 'dilsefoodie', 'food', 'delhi_street_food1', 'foodgasm_prayagraj', 'foodmaniacindia']\n",
    "followers = find_followers(handles)\n",
    "followers = dict(sorted(followers.items(), key = lambda i: i[1], reverse = True))\n",
    "\n",
    "top_5 = []\n",
    "i = 0\n",
    "for user in followers.keys():\n",
    "    top_5.append(user)\n",
    "    i += 1\n",
    "    if i == 5:\n",
    "        break\n",
    "posts = find_posts(top_5, 3)\n",
    "\n",
    "X = top_5\n",
    "Y = np.array(list(followers.values())[0:5])\n",
    "Z = np.array(list(posts.values()))\n",
    "plot(X, Y, Z)"
   ]
  },
  {
   "cell_type": "markdown",
   "id": "371bd3a8",
   "metadata": {},
   "source": [
    "# 2. Your friend also needs a list of hashtags that he should use in his posts.\n",
    "1. Open the 5 handles you obtained in the last question, and scrape the content of the first 10 posts of each handle.\n",
    "2. Prepare a list of all words used in all the scraped posts and calculate the frequency of each word.\n",
    "3. Create a csv file with two columns : the word and its frequency\n",
    "4. Now, find the hashtags that were most popular among these bloggers\n",
    "5. Plot a Pie Chart of the top 5 hashtags obtained and the number of times they were used by these bloggers in the scraped posts."
   ]
  },
  {
   "cell_type": "code",
   "execution_count": 418,
   "id": "746f27d2",
   "metadata": {},
   "outputs": [
    {
     "data": {
      "text/plain": [
       "['healthy.foodyss',\n",
       " 'foodzeee',\n",
       " 'dilsefoodie',\n",
       " 'foodie_incarnate',\n",
       " 'foodmaniacindia']"
      ]
     },
     "execution_count": 418,
     "metadata": {},
     "output_type": "execute_result"
    }
   ],
   "source": [
    "#top 5 handles with most followers\n",
    "top_5"
   ]
  },
  {
   "cell_type": "code",
   "execution_count": 422,
   "id": "69fcf348",
   "metadata": {},
   "outputs": [],
   "source": [
    "#function to find words and calculate their frequencies\n",
    "def prepare_listofwords(handles):\n",
    "    words = {}\n",
    "    for handle in handles:\n",
    "        driver.get(f'https://www.instagram.com/{handle}/')\n",
    "        for i in range(10):\n",
    "            post = wait.until(EC.presence_of_all_elements_located((By.CLASS_NAME, '_9AhH0')))\n",
    "            post[i].click()\n",
    "            content = wait.until(EC.presence_of_element_located((By.XPATH, '//div[contains(@class, \"C4VMK\")]')))\n",
    "            content = content.find_elements_by_tag_name('span')[-1]\n",
    "            s = content.get_attribute('innerText')\n",
    "            s = re.sub(r'[^\\w\\s\\#\\@]', '', s)\n",
    "            s = re.sub('\\n', ' ', s)\n",
    "            s = re.sub('#', ' #', s)\n",
    "            for word in s.split():\n",
    "                if not(words.get(word.lower())):\n",
    "                    words[word.lower()] = 1\n",
    "                else:\n",
    "                    words[word.lower()] += 1\n",
    "            driver.back()\n",
    "    return words\n",
    "\n",
    "#function to export the data to a .csv file \n",
    "def to_csv(words):\n",
    "    df = pd.DataFrame(list(words.items()), columns = ['Word', 'Frequency'])\n",
    "    df.to_csv('words_and_frequencies.csv')\n",
    "    return df\n",
    "\n",
    "#function to find the top 5 hashtags\n",
    "def find_popular_hashtags(df):\n",
    "    df = df[df['Word'].str[0] == '#']\n",
    "    df.reset_index(inplace = True, drop = True)\n",
    "    df.sort_values('Frequency', ascending = False, inplace = True)\n",
    "    df.reset_index(inplace = True, drop = True)\n",
    "    top_hashtags = df.iloc[0:5]\n",
    "    print('The top 5 hashtags were:')\n",
    "    for word in top_hashtags['Word']:\n",
    "        print(word)\n",
    "    return top_hashtags\n",
    "\n",
    "#function to plot the pie chart of obtained data\n",
    "def plot_piechart(top_hashtags): \n",
    "    def helper(value):\n",
    "        value = np.round(value/100.*top_hashtags['Frequency'].sum(), 0)\n",
    "        return int(value)\n",
    "    \n",
    "    plt.pie(x = top_hashtags['Frequency'], labels = top_hashtags['Word'], autopct = helper)\n",
    "    plt.show()"
   ]
  },
  {
   "cell_type": "code",
   "execution_count": 423,
   "id": "ccbb1ec5",
   "metadata": {},
   "outputs": [
    {
     "name": "stdout",
     "output_type": "stream",
     "text": [
      "The top 5 hashtags were:\n",
      "#reelkarofeelkaro\n",
      "#reelitfeelit\n",
      "#dilsefoodie\n",
      "#foodmaniacindia\n",
      "#foodieincarnate\n"
     ]
    },
    {
     "name": "stderr",
     "output_type": "stream",
     "text": [
      "<ipython-input-422-92f44e51a911>:30: SettingWithCopyWarning: \n",
      "A value is trying to be set on a copy of a slice from a DataFrame\n",
      "\n",
      "See the caveats in the documentation: https://pandas.pydata.org/pandas-docs/stable/user_guide/indexing.html#returning-a-view-versus-a-copy\n",
      "  df.sort_values('Frequency', ascending = False, inplace = True)\n"
     ]
    },
    {
     "data": {
      "image/png": "[encoded data removed]",
      "text/plain": [
       "<Figure size 432x288 with 1 Axes>"
      ]
     },
     "metadata": {},
     "output_type": "display_data"
    }
   ],
   "source": [
    "handles = top_5\n",
    "\n",
    "words = prepare_listofwords(handles)\n",
    "df = to_csv(words)\n",
    "top_hashtags = find_popular_hashtags(df)\n",
    "plot_piechart(top_hashtags)"
   ]
  },
  {
   "cell_type": "markdown",
   "id": "16f15d3a",
   "metadata": {},
   "source": [
    "# 3. You need to also calculate average followers : likes ratio for the obtained handles.\n",
    "Followers : Likes ratio is calculated as follows:\n",
    "1. Find out the likes of the top 10 posts of the 5 handles obtained earlier.\n",
    "2. Calculate the average likes for a handle.\n",
    "3. Divide the average likes obtained from the number of followers of the handle to get the average followers:like ratio of each handle.\n",
    "4. Create a bar graph to depict the above obtained information."
   ]
  },
  {
   "cell_type": "code",
   "execution_count": 522,
   "id": "bf39890b",
   "metadata": {},
   "outputs": [
    {
     "data": {
      "text/plain": [
       "['healthy.foodyss',\n",
       " 'foodzeee',\n",
       " 'dilsefoodie',\n",
       " 'foodie_incarnate',\n",
       " 'foodmaniacindia']"
      ]
     },
     "execution_count": 522,
     "metadata": {},
     "output_type": "execute_result"
    }
   ],
   "source": [
    "#top 5 handles with most followers\n",
    "top_5"
   ]
  },
  {
   "cell_type": "code",
   "execution_count": 523,
   "id": "cb16b98d",
   "metadata": {},
   "outputs": [],
   "source": [
    "#function to calculate total number of likes for given handles, for given number of posts\n",
    "def calculate_likes(handles, num_of_posts):\n",
    "    likes = {}\n",
    "    for handle in handles:\n",
    "        driver.get(f'https://www.instagram.com/{handle}/')\n",
    "        likes[handle] = 0\n",
    "        for i in range(num_of_posts):\n",
    "            post = wait.until(EC.presence_of_all_elements_located((By.CLASS_NAME, '_9AhH0')))\n",
    "            post[i].click()\n",
    "            try:\n",
    "                like_element = wait.until(EC.presence_of_element_located((By.XPATH, '//a[contains(@class, \"zV_Nj\")]//span')))\n",
    "            except:\n",
    "                driver.find_element_by_class_name('vcOH2').click()\n",
    "                num = driver.find_element_by_xpath('//div[contains(@class, \"vJRqr\")]//span').get_attribute('innerText')\n",
    "                num = int(num.replace(',', ''))\n",
    "                likes[handle] += num\n",
    "            else:\n",
    "                num = like_element.get_attribute('innerText')\n",
    "                if(num == ''):\n",
    "                    num = driver.find_elements(By.XPATH, '//a[contains(@class, \"zV_Nj\")]//span')[1].get_attribute('innerText')\n",
    "                    num = int(num.replace(',', ''))\n",
    "                    num += 1\n",
    "                    likes[handle] += num\n",
    "                else:\n",
    "                    num = int(num.replace(',', ''))\n",
    "                    likes[handle] += num\n",
    "            driver.back()\n",
    "    return likes\n",
    "\n",
    "#function to calculate the average followers:likes ratio\n",
    "def calculate_average_fl_ratio(likes):\n",
    "    print('Average Likes for a handle:')\n",
    "    for user in likes:\n",
    "        likes[user] = float(likes[user]/10)\n",
    "        print(user, likes[user])\n",
    "    print()\n",
    "    print('Average Followers:Likes ratio for a handle:')\n",
    "    for user in likes:\n",
    "        likes[user] = followers[user]/likes[user]\n",
    "        print(user, likes[user])"
   ]
  },
  {
   "cell_type": "code",
   "execution_count": 524,
   "id": "65cf1e9e",
   "metadata": {},
   "outputs": [],
   "source": [
    "#function to plot the average followers:likes ratio\n",
    "def plot_avg_fl_ratio(X, Y):\n",
    "    X_axis = np.arange(len(X))\n",
    "    \n",
    "    plt.bar(X_axis, Y)\n",
    "    plt.xticks(X_axis, X, rotation = 45)\n",
    "    plt.xlabel(\"Instagram Handles\")\n",
    "    plt.ylabel(\"Average Followers:Likes Ratio\")\n",
    "    plt.title(\"Average Followers:Likes Ratio\")\n",
    "    plt.show()"
   ]
  },
  {
   "cell_type": "code",
   "execution_count": 525,
   "id": "a2fa7672",
   "metadata": {},
   "outputs": [
    {
     "name": "stderr",
     "output_type": "stream",
     "text": [
      "<ipython-input-523-8af469a19680>:13: DeprecationWarning: find_element_by_* commands are deprecated. Please use find_element() instead\n",
      "  driver.find_element_by_class_name('vcOH2').click()\n",
      "<ipython-input-523-8af469a19680>:14: DeprecationWarning: find_element_by_* commands are deprecated. Please use find_element() instead\n",
      "  num = driver.find_element_by_xpath('//div[contains(@class, \"vJRqr\")]//span').get_attribute('innerText')\n"
     ]
    },
    {
     "name": "stdout",
     "output_type": "stream",
     "text": [
      "Average Likes for a handle:\n",
      "healthy.foodyss 4422.3\n",
      "foodzeee 75771.2\n",
      "dilsefoodie 17478.1\n",
      "foodie_incarnate 68692.2\n",
      "foodmaniacindia 560.7\n",
      "\n",
      "Average Followers:Likes ratio for a handle:\n",
      "healthy.foodyss 464.3888926576668\n",
      "foodzeee 13.876433262242118\n",
      "dilsefoodie 54.27060149558591\n",
      "foodie_incarnate 13.416137494504472\n",
      "foodmaniacindia 460.7223113964687\n"
     ]
    },
    {
     "data": {
      "image/png": "[encoded data removed]",
      "text/plain": [
       "<Figure size 432x288 with 1 Axes>"
      ]
     },
     "metadata": {
      "needs_background": "light"
     },
     "output_type": "display_data"
    }
   ],
   "source": [
    "likes = calculate_likes(top_5, 10)\n",
    "calculate_average_fl_ratio(likes)\n",
    "\n",
    "X = likes.keys()\n",
    "Y = likes.values()\n",
    "plot_avg_fl_ratio(X, Y)"
   ]
  }
 ],
 "metadata": {
  "kernelspec": {
   "display_name": "Python 3",
   "language": "python",
   "name": "python3"
  },
  "language_info": {
   "codemirror_mode": {
    "name": "ipython",
    "version": 3
   },
   "file_extension": ".py",
   "mimetype": "text/x-python",
   "name": "python",
   "nbconvert_exporter": "python",
   "pygments_lexer": "ipython3",
   "version": "3.8.8"
  }
 },
 "nbformat": 4,
 "nbformat_minor": 5
}
